{
  "nbformat": 4,
  "nbformat_minor": 0,
  "metadata": {
    "colab": {
      "name": "OmnyColab.ipynb",
      "provenance": []
    },
    "kernelspec": {
      "name": "python3",
      "display_name": "Python 3"
    },
    "language_info": {
      "name": "python"
    }
  },
  "cells": [
    {
      "cell_type": "code",
      "execution_count": null,
      "metadata": {
        "cellView": "form",
        "id": "6YMU3WiiC6nm"
      },
      "outputs": [],
      "source": [
        "#@markdown ឵឵ ឵\n",
        "#@markdown <center><img src=\"https://svgshare.com/i/j6c.svg\" width=\"500px\"></center>"
      ]
    },
    {
      "cell_type": "code",
      "source": [
        "#@title __✦ Mount Google Drive and Install dependencies__\n",
        "#@markdown Note: Upload `config.ini` to your Google Drive **root** folder to use it as you wish. \n",
        "from IPython.display import clear_output\n",
        "from google.colab import drive\n",
        "from pathlib import Path\n",
        "import shutil\n",
        "drive.mount('/content/drive', force_remount=True)\n",
        "!echo \"Installing Dependencies:\"\n",
        "!add-apt-repository --yes ppa:deadsnakes/ppa\n",
        "!apt install --yes python3.9 python3.9-distutils\n",
        "!wget https://bootstrap.pypa.io/get-pip.py && python3.9 get-pip.py\n",
        "!python3.9 get-pip.py\n",
        "!pip3 install wget\n",
        "!mkdir Omny-Downloader\n",
        "!rm /content/get-pip.py\n",
        "!curl -O https://raw.githubusercontent.com/Ori5000/OmnyDL/main/OmnyDLColab.py && mv '/content/OmnyDLColab.py' '/content/Omny-Downloader/OmnyDLColab.py'\n",
        "config = Path(\"/content/drive/MyDrive/config.ini\")\n",
        "if config.is_file():\n",
        "  !cp /content/drive/MyDrive/config.ini /content/Omny-Downloader/config.ini\n",
        "else:\n",
        "  pass\n",
        "clear_output()\n",
        "!echo \"Done!\""
      ],
      "metadata": {
        "cellView": "form",
        "id": "qwW8UKT-EEGT"
      },
      "execution_count": null,
      "outputs": []
    },
    {
      "cell_type": "code",
      "source": [
        "#@title __⬅️ Download from Omny.fm!__\n",
        "!python3.9 /content/Omny-Downloader/OmnyDLColab.py\n",
        "clear_output()\n",
        "!echo \"Done!\""
      ],
      "metadata": {
        "cellView": "form",
        "id": "kEslBJK3Fj6H"
      },
      "execution_count": null,
      "outputs": []
    }
  ]
}
